{
 "cells": [
  {
   "cell_type": "markdown",
   "metadata": {},
   "source": [
    "FROM CLASS: big jumps = federal tax on cigarettes"
   ]
  },
  {
   "cell_type": "markdown",
   "metadata": {},
   "source": []
  }
 ],
 "metadata": {
  "language_info": {
   "name": "python"
  }
 },
 "nbformat": 4,
 "nbformat_minor": 2
}
